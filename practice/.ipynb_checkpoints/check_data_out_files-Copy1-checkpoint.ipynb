{
 "cells": [
  {
   "cell_type": "code",
   "execution_count": 1,
   "id": "c57adfee-d9c2-4111-90a9-31b8d165278d",
   "metadata": {},
   "outputs": [],
   "source": [
    "from pyspark.sql import SparkSession\n",
    "import os\n",
    "import configparser\n",
    "import pyspark.sql.functions as F\n",
    "config = configparser.ConfigParser()\n",
    "config.read_file(open('../dl.cfg'))\n",
    "os.environ[\"AWS_ACCESS_KEY_ID\"] =     config['AWS']['AWS_ACCESS_KEY_ID']\n",
    "os.environ[\"AWS_SECRET_ACCESS_KEY\"] = config['AWS']['AWS_SECRET_ACCESS_KEY']"
   ]
  },
  {
   "cell_type": "code",
   "execution_count": 2,
   "id": "791dfa6b-69fb-4db7-a3cb-c04f430f7084",
   "metadata": {},
   "outputs": [],
   "source": [
    "spark = SparkSession.builder\\\n",
    "                     .master(\"spark://pop-os.localdomain:7077\")\\\n",
    "                     .config(\"spark.jars.packages\",\"org.apache.hadoop:hadoop-aws:2.7.3\")\\\n",
    "                     .getOrCreate()\n",
    "sc = spark.sparkContext\n",
    "config = sc._jsc.hadoopConfiguration()\n",
    "config.set(\"fs.s3a.endpoint\", \"s3.us-west-2.amazonaws.com\")"
   ]
  },
  {
   "cell_type": "code",
   "execution_count": 3,
   "id": "ccc08663-c639-45c4-95f8-b799916ed2b2",
   "metadata": {},
   "outputs": [],
   "source": [
    "# bucket_path = \"s3a://mybucket4321a\""
   ]
  },
  {
   "cell_type": "code",
   "execution_count": 4,
   "id": "72de40b3-690b-44b0-ae14-7e13af67e65e",
   "metadata": {},
   "outputs": [],
   "source": [
    "#song_df = spark.read.parquet(bucket_path + \"/songs.parquet\").alias(\"songs\")"
   ]
  },
  {
   "cell_type": "code",
   "execution_count": 5,
   "id": "0304a710-2e8f-458b-9a4b-2fc5960715c7",
   "metadata": {},
   "outputs": [],
   "source": [
    "# song_df.printSchema()"
   ]
  },
  {
   "cell_type": "code",
   "execution_count": 6,
   "id": "746de363-153a-426f-9ee8-9ac78df4aa13",
   "metadata": {},
   "outputs": [],
   "source": [
    "# song_df[[\"artist_id\"]]"
   ]
  },
  {
   "cell_type": "code",
   "execution_count": 7,
   "id": "58d8cc02-dc92-495a-8c24-c723b1170bc6",
   "metadata": {},
   "outputs": [],
   "source": [
    "df_logs = spark.read.json(\"/home/paul/Projects/DataEngineering/Spark/data/log_data/*.json\")"
   ]
  },
  {
   "cell_type": "code",
   "execution_count": 8,
   "id": "655a1d13-07b9-4d59-94e1-864916f2f3ac",
   "metadata": {},
   "outputs": [
    {
     "name": "stdout",
     "output_type": "stream",
     "text": [
      "root\n",
      " |-- artist: string (nullable = true)\n",
      " |-- auth: string (nullable = true)\n",
      " |-- firstName: string (nullable = true)\n",
      " |-- gender: string (nullable = true)\n",
      " |-- itemInSession: long (nullable = true)\n",
      " |-- lastName: string (nullable = true)\n",
      " |-- length: double (nullable = true)\n",
      " |-- level: string (nullable = true)\n",
      " |-- location: string (nullable = true)\n",
      " |-- method: string (nullable = true)\n",
      " |-- page: string (nullable = true)\n",
      " |-- registration: double (nullable = true)\n",
      " |-- sessionId: long (nullable = true)\n",
      " |-- song: string (nullable = true)\n",
      " |-- status: long (nullable = true)\n",
      " |-- ts: long (nullable = true)\n",
      " |-- userAgent: string (nullable = true)\n",
      " |-- userId: string (nullable = true)\n",
      "\n"
     ]
    }
   ],
   "source": [
    "df_logs.printSchema()"
   ]
  },
  {
   "cell_type": "code",
   "execution_count": 9,
   "id": "59090b6f-61ff-4176-b0b3-936badc1fb4e",
   "metadata": {},
   "outputs": [
    {
     "name": "stdout",
     "output_type": "stream",
     "text": [
      "+--------------------+\n",
      "|              artist|\n",
      "+--------------------+\n",
      "|            Harmonia|\n",
      "|         The Prodigy|\n",
      "|               Train|\n",
      "|                null|\n",
      "|                null|\n",
      "|         Sony Wonder|\n",
      "|                null|\n",
      "|                null|\n",
      "|                null|\n",
      "|           Van Halen|\n",
      "|           Magic Sam|\n",
      "|Edward Sharpe & T...|\n",
      "|Usher featuring w...|\n",
      "|                null|\n",
      "|         Helen Reddy|\n",
      "|        Taylor Swift|\n",
      "|           Sean Paul|\n",
      "|         Soundgarden|\n",
      "|         The Killers|\n",
      "|       Amy Winehouse|\n",
      "+--------------------+\n",
      "only showing top 20 rows\n",
      "\n"
     ]
    }
   ],
   "source": [
    "df_logs[[\"artist\"]].show()"
   ]
  },
  {
   "cell_type": "code",
   "execution_count": 10,
   "id": "a91a52f6-1bd3-465c-ad0a-8e8a7781b311",
   "metadata": {},
   "outputs": [],
   "source": [
    "artists_df = spark.read.parquet(\"/home/paul/Projects/DataEngineering/Spark/out/artists.parquet\").alias(\"songs\")"
   ]
  },
  {
   "cell_type": "code",
   "execution_count": 11,
   "id": "5bb2ec36-6111-42ca-a6f3-d27fd9d6d12f",
   "metadata": {},
   "outputs": [
    {
     "name": "stdout",
     "output_type": "stream",
     "text": [
      "root\n",
      " |-- artist_id: string (nullable = true)\n",
      " |-- artist_name: string (nullable = true)\n",
      " |-- artist_location: string (nullable = true)\n",
      " |-- artist_latitude: double (nullable = true)\n",
      " |-- artist_longitude: double (nullable = true)\n",
      "\n"
     ]
    }
   ],
   "source": [
    "artists_df.printSchema()"
   ]
  },
  {
   "cell_type": "code",
   "execution_count": 12,
   "id": "135e9e6f-3fbb-4c23-b552-3a8829b96522",
   "metadata": {},
   "outputs": [],
   "source": [
    "songplays_df = spark.read.parquet(\"/home/paul/Projects/DataEngineering/Spark/out/songplays.parquet\").alias(\"songplays\")"
   ]
  },
  {
   "cell_type": "code",
   "execution_count": 13,
   "id": "83894c79-dbd3-4610-93d2-4a6c0d585ad9",
   "metadata": {},
   "outputs": [
    {
     "name": "stdout",
     "output_type": "stream",
     "text": [
      "+-----------+-------------------+-------+-----+------------------+------------------+----------+--------------------+--------------------+----+-----+\n",
      "|songplay_id|         start_time|user_id|level|           song_id|         artist_id|session_id|            location|          user_agent|year|month|\n",
      "+-----------+-------------------+-------+-----+------------------+------------------+----------+--------------------+--------------------+----+-----+\n",
      "|          0|2018-11-21 16:56:47|     15| paid|SOZCTXZ12AB0182364|AR5KOSW1187FB35FF4|       818|Chicago-Napervill...|\"Mozilla/5.0 (X11...|2018|   11|\n",
      "+-----------+-------------------+-------+-----+------------------+------------------+----------+--------------------+--------------------+----+-----+\n",
      "\n"
     ]
    }
   ],
   "source": [
    "songplays_df.show()"
   ]
  },
  {
   "cell_type": "code",
   "execution_count": null,
   "id": "316d96c0-128d-4b1a-98a4-034d3e2574a6",
   "metadata": {},
   "outputs": [],
   "source": []
  },
  {
   "cell_type": "code",
   "execution_count": null,
   "id": "3bd8fde5-002d-48c6-a9fa-6022e830d8ba",
   "metadata": {},
   "outputs": [],
   "source": []
  }
 ],
 "metadata": {
  "kernelspec": {
   "display_name": "Python 3 (ipykernel)",
   "language": "python",
   "name": "python3"
  },
  "language_info": {
   "codemirror_mode": {
    "name": "ipython",
    "version": 3
   },
   "file_extension": ".py",
   "mimetype": "text/x-python",
   "name": "python",
   "nbconvert_exporter": "python",
   "pygments_lexer": "ipython3",
   "version": "3.6.15"
  }
 },
 "nbformat": 4,
 "nbformat_minor": 5
}

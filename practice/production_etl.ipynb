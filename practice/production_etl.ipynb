{
 "cells": [
  {
   "cell_type": "code",
   "execution_count": null,
   "id": "7d19c752-ce55-4474-bcfa-98a24616d598",
   "metadata": {},
   "outputs": [],
   "source": [
    "from pyspark.sql import SparkSession\n",
    "import os\n",
    "import configparser\n",
    "import pyspark.sql.functions as F\n",
    "config = configparser.ConfigParser()\n",
    "\n",
    "#Normally this file should be in ~/.aws/credentials\n",
    "config.read_file(open('../dl.cfg'))\n",
    "\n",
    "os.environ[\"AWS_ACCESS_KEY_ID\"] =     config['AWS']['AWS_ACCESS_KEY_ID']\n",
    "os.environ[\"AWS_SECRET_ACCESS_KEY\"] = config['AWS']['AWS_SECRET_ACCESS_KEY']\n",
    "# os.environ[\"AWS_SESSION_TOKEN\"] =     config['AWS']['AWS_SESSION_TOKEN']\n",
    "# os.environ['AWS_DEFAULT_REGION'] =    \"us-east-1\"#config['AWS']['AWS_DEFAULT_REGION']"
   ]
  },
  {
   "cell_type": "code",
   "execution_count": null,
   "id": "6de0999b-a3af-4e5e-862e-cfa926069c9d",
   "metadata": {},
   "outputs": [],
   "source": [
    "spark = SparkSession.builder\\\n",
    "                     .master(\"spark://pop-os.localdomain:7077\")\\\n",
    "                     .config(\"spark.jars.packages\",\"org.apache.hadoop:hadoop-aws:2.7.3\")\\\n",
    "                     .getOrCreate()\n",
    "sc = spark.sparkContext\n",
    "config = sc._jsc.hadoopConfiguration()\n",
    "config.set(\"fs.s3a.endpoint\", \"s3.us-west-2.amazonaws.com\")"
   ]
  },
  {
   "cell_type": "code",
   "execution_count": null,
   "id": "33a26848-53b5-424a-82ab-9aefaeb1979c",
   "metadata": {},
   "outputs": [],
   "source": [
    "df_events = spark.read.json(\"s3a://udacity-dend/log_data/*/*/*.json\")\n",
    "df_events = df_events = df_events.withColumn(\"timestamp\", F.to_timestamp(F.from_unixtime(F.col(\"ts\") / 1000)) )"
   ]
  },
  {
   "cell_type": "code",
   "execution_count": null,
   "id": "1db59968-4f5a-4d9b-b71b-fc478adcc30f",
   "metadata": {},
   "outputs": [],
   "source": [
    "df_songs = spark.read.json(\"s3a://udacity-dend/song_data/*/*/*/*.json\")"
   ]
  },
  {
   "cell_type": "code",
   "execution_count": null,
   "id": "bc52abf4-3ca1-4a0b-8ed8-fe014ef69975",
   "metadata": {},
   "outputs": [],
   "source": [
    "df_events.createOrReplaceTempView(\"staging_events\")\n",
    "df_songs.createOrReplaceTempView(\"staging_songs\")"
   ]
  }
 ],
 "metadata": {
  "kernelspec": {
   "display_name": "Python 3 (ipykernel)",
   "language": "python",
   "name": "python3"
  },
  "language_info": {
   "codemirror_mode": {
    "name": "ipython",
    "version": 3
   },
   "file_extension": ".py",
   "mimetype": "text/x-python",
   "name": "python",
   "nbconvert_exporter": "python",
   "pygments_lexer": "ipython3",
   "version": "3.6.15"
  }
 },
 "nbformat": 4,
 "nbformat_minor": 5
}
